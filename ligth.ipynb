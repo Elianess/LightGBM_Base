{
 "cells": [
  {
   "cell_type": "markdown",
   "id": "5d99e8c0",
   "metadata": {},
   "source": [
    "Задача: нужно предсказать доход человека (больше $50000 или меньше) по результатам переписи населения\n",
    "\n",
    "https://archive.ics.uci.edu/dataset/2/adult"
   ]
  },
  {
   "cell_type": "markdown",
   "id": "66ccfdb4",
   "metadata": {},
   "source": [
    "### Train data"
   ]
  },
  {
   "cell_type": "code",
   "execution_count": 88,
   "id": "4532d2dc",
   "metadata": {},
   "outputs": [],
   "source": [
    "import pandas as pd\n",
    "\n",
    "columns = ['age', 'workclass', 'fnlwgt', 'education', \n",
    "           'education-num', 'marital-status', 'occupation', \n",
    "           'relationship', 'race', 'sex', 'capital-gain', \n",
    "           'capital-loss', 'hours-per-week', 'native-country', 'income']\n",
    "df = pd.read_csv('adult.data', \n",
    "                 header = None, \n",
    "                 names = columns,\n",
    "                 na_values=' ?')"
   ]
  },
  {
   "cell_type": "code",
   "execution_count": 89,
   "id": "f87f6797",
   "metadata": {},
   "outputs": [
    {
     "data": {
      "text/html": [
       "<div>\n",
       "<style scoped>\n",
       "    .dataframe tbody tr th:only-of-type {\n",
       "        vertical-align: middle;\n",
       "    }\n",
       "\n",
       "    .dataframe tbody tr th {\n",
       "        vertical-align: top;\n",
       "    }\n",
       "\n",
       "    .dataframe thead th {\n",
       "        text-align: right;\n",
       "    }\n",
       "</style>\n",
       "<table border=\"1\" class=\"dataframe\">\n",
       "  <thead>\n",
       "    <tr style=\"text-align: right;\">\n",
       "      <th></th>\n",
       "      <th>age</th>\n",
       "      <th>workclass</th>\n",
       "      <th>fnlwgt</th>\n",
       "      <th>education</th>\n",
       "      <th>education-num</th>\n",
       "      <th>marital-status</th>\n",
       "      <th>occupation</th>\n",
       "      <th>relationship</th>\n",
       "      <th>race</th>\n",
       "      <th>sex</th>\n",
       "      <th>capital-gain</th>\n",
       "      <th>capital-loss</th>\n",
       "      <th>hours-per-week</th>\n",
       "      <th>native-country</th>\n",
       "      <th>income</th>\n",
       "    </tr>\n",
       "  </thead>\n",
       "  <tbody>\n",
       "    <tr>\n",
       "      <th>0</th>\n",
       "      <td>39</td>\n",
       "      <td>State-gov</td>\n",
       "      <td>77516</td>\n",
       "      <td>Bachelors</td>\n",
       "      <td>13</td>\n",
       "      <td>Never-married</td>\n",
       "      <td>Adm-clerical</td>\n",
       "      <td>Not-in-family</td>\n",
       "      <td>White</td>\n",
       "      <td>Male</td>\n",
       "      <td>2174</td>\n",
       "      <td>0</td>\n",
       "      <td>40</td>\n",
       "      <td>United-States</td>\n",
       "      <td>&lt;=50K</td>\n",
       "    </tr>\n",
       "    <tr>\n",
       "      <th>1</th>\n",
       "      <td>50</td>\n",
       "      <td>Self-emp-not-inc</td>\n",
       "      <td>83311</td>\n",
       "      <td>Bachelors</td>\n",
       "      <td>13</td>\n",
       "      <td>Married-civ-spouse</td>\n",
       "      <td>Exec-managerial</td>\n",
       "      <td>Husband</td>\n",
       "      <td>White</td>\n",
       "      <td>Male</td>\n",
       "      <td>0</td>\n",
       "      <td>0</td>\n",
       "      <td>13</td>\n",
       "      <td>United-States</td>\n",
       "      <td>&lt;=50K</td>\n",
       "    </tr>\n",
       "    <tr>\n",
       "      <th>2</th>\n",
       "      <td>38</td>\n",
       "      <td>Private</td>\n",
       "      <td>215646</td>\n",
       "      <td>HS-grad</td>\n",
       "      <td>9</td>\n",
       "      <td>Divorced</td>\n",
       "      <td>Handlers-cleaners</td>\n",
       "      <td>Not-in-family</td>\n",
       "      <td>White</td>\n",
       "      <td>Male</td>\n",
       "      <td>0</td>\n",
       "      <td>0</td>\n",
       "      <td>40</td>\n",
       "      <td>United-States</td>\n",
       "      <td>&lt;=50K</td>\n",
       "    </tr>\n",
       "    <tr>\n",
       "      <th>3</th>\n",
       "      <td>53</td>\n",
       "      <td>Private</td>\n",
       "      <td>234721</td>\n",
       "      <td>11th</td>\n",
       "      <td>7</td>\n",
       "      <td>Married-civ-spouse</td>\n",
       "      <td>Handlers-cleaners</td>\n",
       "      <td>Husband</td>\n",
       "      <td>Black</td>\n",
       "      <td>Male</td>\n",
       "      <td>0</td>\n",
       "      <td>0</td>\n",
       "      <td>40</td>\n",
       "      <td>United-States</td>\n",
       "      <td>&lt;=50K</td>\n",
       "    </tr>\n",
       "    <tr>\n",
       "      <th>4</th>\n",
       "      <td>28</td>\n",
       "      <td>Private</td>\n",
       "      <td>338409</td>\n",
       "      <td>Bachelors</td>\n",
       "      <td>13</td>\n",
       "      <td>Married-civ-spouse</td>\n",
       "      <td>Prof-specialty</td>\n",
       "      <td>Wife</td>\n",
       "      <td>Black</td>\n",
       "      <td>Female</td>\n",
       "      <td>0</td>\n",
       "      <td>0</td>\n",
       "      <td>40</td>\n",
       "      <td>Cuba</td>\n",
       "      <td>&lt;=50K</td>\n",
       "    </tr>\n",
       "  </tbody>\n",
       "</table>\n",
       "</div>"
      ],
      "text/plain": [
       "   age          workclass  fnlwgt   education  education-num  \\\n",
       "0   39          State-gov   77516   Bachelors             13   \n",
       "1   50   Self-emp-not-inc   83311   Bachelors             13   \n",
       "2   38            Private  215646     HS-grad              9   \n",
       "3   53            Private  234721        11th              7   \n",
       "4   28            Private  338409   Bachelors             13   \n",
       "\n",
       "        marital-status          occupation    relationship    race      sex  \\\n",
       "0        Never-married        Adm-clerical   Not-in-family   White     Male   \n",
       "1   Married-civ-spouse     Exec-managerial         Husband   White     Male   \n",
       "2             Divorced   Handlers-cleaners   Not-in-family   White     Male   \n",
       "3   Married-civ-spouse   Handlers-cleaners         Husband   Black     Male   \n",
       "4   Married-civ-spouse      Prof-specialty            Wife   Black   Female   \n",
       "\n",
       "   capital-gain  capital-loss  hours-per-week  native-country  income  \n",
       "0          2174             0              40   United-States   <=50K  \n",
       "1             0             0              13   United-States   <=50K  \n",
       "2             0             0              40   United-States   <=50K  \n",
       "3             0             0              40   United-States   <=50K  \n",
       "4             0             0              40            Cuba   <=50K  "
      ]
     },
     "execution_count": 89,
     "metadata": {},
     "output_type": "execute_result"
    }
   ],
   "source": [
    "df.head()"
   ]
  },
  {
   "cell_type": "code",
   "execution_count": 90,
   "id": "7312fe47",
   "metadata": {},
   "outputs": [
    {
     "name": "stdout",
     "output_type": "stream",
     "text": [
      "Размер набора данных: (32561, 15)\n"
     ]
    }
   ],
   "source": [
    "print(f'Размер набора данных: {df.shape}')"
   ]
  },
  {
   "cell_type": "markdown",
   "id": "2b58cf39",
   "metadata": {},
   "source": [
    "Чтобы не было дублирования удаляем столбец `education`, так как у нас есть кол-во лет обучения в толбце `education-num` "
   ]
  },
  {
   "cell_type": "code",
   "execution_count": 91,
   "id": "5664ff3b",
   "metadata": {},
   "outputs": [],
   "source": [
    "df = df.drop('education', axis = 1)"
   ]
  },
  {
   "cell_type": "markdown",
   "id": "a83e24dd",
   "metadata": {},
   "source": [
    "Также преобразуем столбец `income` в бинарные значения"
   ]
  },
  {
   "cell_type": "code",
   "execution_count": 92,
   "id": "858cddec",
   "metadata": {},
   "outputs": [
    {
     "data": {
      "text/plain": [
       "array([' <=50K', ' >50K'], dtype=object)"
      ]
     },
     "execution_count": 92,
     "metadata": {},
     "output_type": "execute_result"
    }
   ],
   "source": [
    "df['income'].unique()"
   ]
  },
  {
   "cell_type": "code",
   "execution_count": 93,
   "id": "5816b5ab",
   "metadata": {},
   "outputs": [],
   "source": [
    "df['income'] = df['income'].map({' <=50K': 0,\n",
    "                                 ' >50K' : 1})"
   ]
  },
  {
   "cell_type": "code",
   "execution_count": 94,
   "id": "87afb9d4",
   "metadata": {},
   "outputs": [
    {
     "data": {
      "text/html": [
       "<div>\n",
       "<style scoped>\n",
       "    .dataframe tbody tr th:only-of-type {\n",
       "        vertical-align: middle;\n",
       "    }\n",
       "\n",
       "    .dataframe tbody tr th {\n",
       "        vertical-align: top;\n",
       "    }\n",
       "\n",
       "    .dataframe thead th {\n",
       "        text-align: right;\n",
       "    }\n",
       "</style>\n",
       "<table border=\"1\" class=\"dataframe\">\n",
       "  <thead>\n",
       "    <tr style=\"text-align: right;\">\n",
       "      <th></th>\n",
       "      <th>age</th>\n",
       "      <th>workclass</th>\n",
       "      <th>fnlwgt</th>\n",
       "      <th>education-num</th>\n",
       "      <th>marital-status</th>\n",
       "      <th>occupation</th>\n",
       "      <th>relationship</th>\n",
       "      <th>race</th>\n",
       "      <th>sex</th>\n",
       "      <th>capital-gain</th>\n",
       "      <th>capital-loss</th>\n",
       "      <th>hours-per-week</th>\n",
       "      <th>native-country</th>\n",
       "      <th>income</th>\n",
       "    </tr>\n",
       "  </thead>\n",
       "  <tbody>\n",
       "    <tr>\n",
       "      <th>0</th>\n",
       "      <td>39</td>\n",
       "      <td>State-gov</td>\n",
       "      <td>77516</td>\n",
       "      <td>13</td>\n",
       "      <td>Never-married</td>\n",
       "      <td>Adm-clerical</td>\n",
       "      <td>Not-in-family</td>\n",
       "      <td>White</td>\n",
       "      <td>Male</td>\n",
       "      <td>2174</td>\n",
       "      <td>0</td>\n",
       "      <td>40</td>\n",
       "      <td>United-States</td>\n",
       "      <td>0</td>\n",
       "    </tr>\n",
       "    <tr>\n",
       "      <th>1</th>\n",
       "      <td>50</td>\n",
       "      <td>Self-emp-not-inc</td>\n",
       "      <td>83311</td>\n",
       "      <td>13</td>\n",
       "      <td>Married-civ-spouse</td>\n",
       "      <td>Exec-managerial</td>\n",
       "      <td>Husband</td>\n",
       "      <td>White</td>\n",
       "      <td>Male</td>\n",
       "      <td>0</td>\n",
       "      <td>0</td>\n",
       "      <td>13</td>\n",
       "      <td>United-States</td>\n",
       "      <td>0</td>\n",
       "    </tr>\n",
       "    <tr>\n",
       "      <th>2</th>\n",
       "      <td>38</td>\n",
       "      <td>Private</td>\n",
       "      <td>215646</td>\n",
       "      <td>9</td>\n",
       "      <td>Divorced</td>\n",
       "      <td>Handlers-cleaners</td>\n",
       "      <td>Not-in-family</td>\n",
       "      <td>White</td>\n",
       "      <td>Male</td>\n",
       "      <td>0</td>\n",
       "      <td>0</td>\n",
       "      <td>40</td>\n",
       "      <td>United-States</td>\n",
       "      <td>0</td>\n",
       "    </tr>\n",
       "    <tr>\n",
       "      <th>3</th>\n",
       "      <td>53</td>\n",
       "      <td>Private</td>\n",
       "      <td>234721</td>\n",
       "      <td>7</td>\n",
       "      <td>Married-civ-spouse</td>\n",
       "      <td>Handlers-cleaners</td>\n",
       "      <td>Husband</td>\n",
       "      <td>Black</td>\n",
       "      <td>Male</td>\n",
       "      <td>0</td>\n",
       "      <td>0</td>\n",
       "      <td>40</td>\n",
       "      <td>United-States</td>\n",
       "      <td>0</td>\n",
       "    </tr>\n",
       "    <tr>\n",
       "      <th>4</th>\n",
       "      <td>28</td>\n",
       "      <td>Private</td>\n",
       "      <td>338409</td>\n",
       "      <td>13</td>\n",
       "      <td>Married-civ-spouse</td>\n",
       "      <td>Prof-specialty</td>\n",
       "      <td>Wife</td>\n",
       "      <td>Black</td>\n",
       "      <td>Female</td>\n",
       "      <td>0</td>\n",
       "      <td>0</td>\n",
       "      <td>40</td>\n",
       "      <td>Cuba</td>\n",
       "      <td>0</td>\n",
       "    </tr>\n",
       "  </tbody>\n",
       "</table>\n",
       "</div>"
      ],
      "text/plain": [
       "   age          workclass  fnlwgt  education-num       marital-status  \\\n",
       "0   39          State-gov   77516             13        Never-married   \n",
       "1   50   Self-emp-not-inc   83311             13   Married-civ-spouse   \n",
       "2   38            Private  215646              9             Divorced   \n",
       "3   53            Private  234721              7   Married-civ-spouse   \n",
       "4   28            Private  338409             13   Married-civ-spouse   \n",
       "\n",
       "           occupation    relationship    race      sex  capital-gain  \\\n",
       "0        Adm-clerical   Not-in-family   White     Male          2174   \n",
       "1     Exec-managerial         Husband   White     Male             0   \n",
       "2   Handlers-cleaners   Not-in-family   White     Male             0   \n",
       "3   Handlers-cleaners         Husband   Black     Male             0   \n",
       "4      Prof-specialty            Wife   Black   Female             0   \n",
       "\n",
       "   capital-loss  hours-per-week  native-country  income  \n",
       "0             0              40   United-States       0  \n",
       "1             0              13   United-States       0  \n",
       "2             0              40   United-States       0  \n",
       "3             0              40   United-States       0  \n",
       "4             0              40            Cuba       0  "
      ]
     },
     "execution_count": 94,
     "metadata": {},
     "output_type": "execute_result"
    }
   ],
   "source": [
    "df.head()"
   ]
  },
  {
   "cell_type": "code",
   "execution_count": 95,
   "id": "4c7664fe",
   "metadata": {},
   "outputs": [
    {
     "data": {
      "text/plain": [
       "age                  0\n",
       "workclass         1836\n",
       "fnlwgt               0\n",
       "education-num        0\n",
       "marital-status       0\n",
       "occupation        1843\n",
       "relationship         0\n",
       "race                 0\n",
       "sex                  0\n",
       "capital-gain         0\n",
       "capital-loss         0\n",
       "hours-per-week       0\n",
       "native-country     583\n",
       "income               0\n",
       "dtype: int64"
      ]
     },
     "execution_count": 95,
     "metadata": {},
     "output_type": "execute_result"
    }
   ],
   "source": [
    "df.isnull().sum()"
   ]
  },
  {
   "cell_type": "markdown",
   "id": "adea448c",
   "metadata": {},
   "source": [
    "у нас есть пустые занчения и так как размер набора данных достаточно большой, можно просто избавиться от них путем удаления"
   ]
  },
  {
   "cell_type": "code",
   "execution_count": 96,
   "id": "b43ed7f5",
   "metadata": {},
   "outputs": [],
   "source": [
    "df = df.dropna()"
   ]
  },
  {
   "cell_type": "code",
   "execution_count": 97,
   "id": "49194004",
   "metadata": {},
   "outputs": [
    {
     "name": "stdout",
     "output_type": "stream",
     "text": [
      "<class 'pandas.core.frame.DataFrame'>\n",
      "Index: 30162 entries, 0 to 32560\n",
      "Data columns (total 14 columns):\n",
      " #   Column          Non-Null Count  Dtype \n",
      "---  ------          --------------  ----- \n",
      " 0   age             30162 non-null  int64 \n",
      " 1   workclass       30162 non-null  object\n",
      " 2   fnlwgt          30162 non-null  int64 \n",
      " 3   education-num   30162 non-null  int64 \n",
      " 4   marital-status  30162 non-null  object\n",
      " 5   occupation      30162 non-null  object\n",
      " 6   relationship    30162 non-null  object\n",
      " 7   race            30162 non-null  object\n",
      " 8   sex             30162 non-null  object\n",
      " 9   capital-gain    30162 non-null  int64 \n",
      " 10  capital-loss    30162 non-null  int64 \n",
      " 11  hours-per-week  30162 non-null  int64 \n",
      " 12  native-country  30162 non-null  object\n",
      " 13  income          30162 non-null  int64 \n",
      "dtypes: int64(7), object(7)\n",
      "memory usage: 3.5+ MB\n"
     ]
    }
   ],
   "source": [
    "df.info()"
   ]
  },
  {
   "cell_type": "markdown",
   "id": "0c27c6d6",
   "metadata": {},
   "source": [
    "### Test data"
   ]
  },
  {
   "cell_type": "markdown",
   "id": "af94b619",
   "metadata": {},
   "source": [
    "повторяем манипуляции для этой выборки"
   ]
  },
  {
   "cell_type": "code",
   "execution_count": 98,
   "id": "168edf53",
   "metadata": {},
   "outputs": [],
   "source": [
    "test_df = pd.read_csv('adult.test',\n",
    "                      header = None,\n",
    "                      names = columns, \n",
    "                      na_values = ' ?',\n",
    "                      skiprows = 1)"
   ]
  },
  {
   "cell_type": "code",
   "execution_count": 99,
   "id": "9236efc0",
   "metadata": {},
   "outputs": [
    {
     "name": "stdout",
     "output_type": "stream",
     "text": [
      "Размер набора данных: (16281, 15)\n"
     ]
    }
   ],
   "source": [
    "print(f'Размер набора данных: {test_df.shape}')"
   ]
  },
  {
   "cell_type": "code",
   "execution_count": 100,
   "id": "1eaace2d",
   "metadata": {},
   "outputs": [
    {
     "data": {
      "text/html": [
       "<div>\n",
       "<style scoped>\n",
       "    .dataframe tbody tr th:only-of-type {\n",
       "        vertical-align: middle;\n",
       "    }\n",
       "\n",
       "    .dataframe tbody tr th {\n",
       "        vertical-align: top;\n",
       "    }\n",
       "\n",
       "    .dataframe thead th {\n",
       "        text-align: right;\n",
       "    }\n",
       "</style>\n",
       "<table border=\"1\" class=\"dataframe\">\n",
       "  <thead>\n",
       "    <tr style=\"text-align: right;\">\n",
       "      <th></th>\n",
       "      <th>age</th>\n",
       "      <th>workclass</th>\n",
       "      <th>fnlwgt</th>\n",
       "      <th>education</th>\n",
       "      <th>education-num</th>\n",
       "      <th>marital-status</th>\n",
       "      <th>occupation</th>\n",
       "      <th>relationship</th>\n",
       "      <th>race</th>\n",
       "      <th>sex</th>\n",
       "      <th>capital-gain</th>\n",
       "      <th>capital-loss</th>\n",
       "      <th>hours-per-week</th>\n",
       "      <th>native-country</th>\n",
       "      <th>income</th>\n",
       "    </tr>\n",
       "  </thead>\n",
       "  <tbody>\n",
       "    <tr>\n",
       "      <th>0</th>\n",
       "      <td>25</td>\n",
       "      <td>Private</td>\n",
       "      <td>226802</td>\n",
       "      <td>11th</td>\n",
       "      <td>7</td>\n",
       "      <td>Never-married</td>\n",
       "      <td>Machine-op-inspct</td>\n",
       "      <td>Own-child</td>\n",
       "      <td>Black</td>\n",
       "      <td>Male</td>\n",
       "      <td>0</td>\n",
       "      <td>0</td>\n",
       "      <td>40</td>\n",
       "      <td>United-States</td>\n",
       "      <td>&lt;=50K.</td>\n",
       "    </tr>\n",
       "    <tr>\n",
       "      <th>1</th>\n",
       "      <td>38</td>\n",
       "      <td>Private</td>\n",
       "      <td>89814</td>\n",
       "      <td>HS-grad</td>\n",
       "      <td>9</td>\n",
       "      <td>Married-civ-spouse</td>\n",
       "      <td>Farming-fishing</td>\n",
       "      <td>Husband</td>\n",
       "      <td>White</td>\n",
       "      <td>Male</td>\n",
       "      <td>0</td>\n",
       "      <td>0</td>\n",
       "      <td>50</td>\n",
       "      <td>United-States</td>\n",
       "      <td>&lt;=50K.</td>\n",
       "    </tr>\n",
       "    <tr>\n",
       "      <th>2</th>\n",
       "      <td>28</td>\n",
       "      <td>Local-gov</td>\n",
       "      <td>336951</td>\n",
       "      <td>Assoc-acdm</td>\n",
       "      <td>12</td>\n",
       "      <td>Married-civ-spouse</td>\n",
       "      <td>Protective-serv</td>\n",
       "      <td>Husband</td>\n",
       "      <td>White</td>\n",
       "      <td>Male</td>\n",
       "      <td>0</td>\n",
       "      <td>0</td>\n",
       "      <td>40</td>\n",
       "      <td>United-States</td>\n",
       "      <td>&gt;50K.</td>\n",
       "    </tr>\n",
       "    <tr>\n",
       "      <th>3</th>\n",
       "      <td>44</td>\n",
       "      <td>Private</td>\n",
       "      <td>160323</td>\n",
       "      <td>Some-college</td>\n",
       "      <td>10</td>\n",
       "      <td>Married-civ-spouse</td>\n",
       "      <td>Machine-op-inspct</td>\n",
       "      <td>Husband</td>\n",
       "      <td>Black</td>\n",
       "      <td>Male</td>\n",
       "      <td>7688</td>\n",
       "      <td>0</td>\n",
       "      <td>40</td>\n",
       "      <td>United-States</td>\n",
       "      <td>&gt;50K.</td>\n",
       "    </tr>\n",
       "    <tr>\n",
       "      <th>4</th>\n",
       "      <td>18</td>\n",
       "      <td>NaN</td>\n",
       "      <td>103497</td>\n",
       "      <td>Some-college</td>\n",
       "      <td>10</td>\n",
       "      <td>Never-married</td>\n",
       "      <td>NaN</td>\n",
       "      <td>Own-child</td>\n",
       "      <td>White</td>\n",
       "      <td>Female</td>\n",
       "      <td>0</td>\n",
       "      <td>0</td>\n",
       "      <td>30</td>\n",
       "      <td>United-States</td>\n",
       "      <td>&lt;=50K.</td>\n",
       "    </tr>\n",
       "  </tbody>\n",
       "</table>\n",
       "</div>"
      ],
      "text/plain": [
       "   age   workclass  fnlwgt      education  education-num       marital-status  \\\n",
       "0   25     Private  226802           11th              7        Never-married   \n",
       "1   38     Private   89814        HS-grad              9   Married-civ-spouse   \n",
       "2   28   Local-gov  336951     Assoc-acdm             12   Married-civ-spouse   \n",
       "3   44     Private  160323   Some-college             10   Married-civ-spouse   \n",
       "4   18         NaN  103497   Some-college             10        Never-married   \n",
       "\n",
       "           occupation relationship    race      sex  capital-gain  \\\n",
       "0   Machine-op-inspct    Own-child   Black     Male             0   \n",
       "1     Farming-fishing      Husband   White     Male             0   \n",
       "2     Protective-serv      Husband   White     Male             0   \n",
       "3   Machine-op-inspct      Husband   Black     Male          7688   \n",
       "4                 NaN    Own-child   White   Female             0   \n",
       "\n",
       "   capital-loss  hours-per-week  native-country   income  \n",
       "0             0              40   United-States   <=50K.  \n",
       "1             0              50   United-States   <=50K.  \n",
       "2             0              40   United-States    >50K.  \n",
       "3             0              40   United-States    >50K.  \n",
       "4             0              30   United-States   <=50K.  "
      ]
     },
     "execution_count": 100,
     "metadata": {},
     "output_type": "execute_result"
    }
   ],
   "source": [
    "test_df.head()"
   ]
  },
  {
   "cell_type": "code",
   "execution_count": 101,
   "id": "e53d5daa",
   "metadata": {},
   "outputs": [],
   "source": [
    "test_df = test_df.drop('education', axis = 1)\n",
    "test_df['income'] = test_df['income'].map({' <=50K.': 0,\n",
    "                                           ' >50K.' : 1})"
   ]
  },
  {
   "cell_type": "code",
   "execution_count": 102,
   "id": "3a7e1037",
   "metadata": {},
   "outputs": [
    {
     "data": {
      "text/html": [
       "<div>\n",
       "<style scoped>\n",
       "    .dataframe tbody tr th:only-of-type {\n",
       "        vertical-align: middle;\n",
       "    }\n",
       "\n",
       "    .dataframe tbody tr th {\n",
       "        vertical-align: top;\n",
       "    }\n",
       "\n",
       "    .dataframe thead th {\n",
       "        text-align: right;\n",
       "    }\n",
       "</style>\n",
       "<table border=\"1\" class=\"dataframe\">\n",
       "  <thead>\n",
       "    <tr style=\"text-align: right;\">\n",
       "      <th></th>\n",
       "      <th>age</th>\n",
       "      <th>workclass</th>\n",
       "      <th>fnlwgt</th>\n",
       "      <th>education-num</th>\n",
       "      <th>marital-status</th>\n",
       "      <th>occupation</th>\n",
       "      <th>relationship</th>\n",
       "      <th>race</th>\n",
       "      <th>sex</th>\n",
       "      <th>capital-gain</th>\n",
       "      <th>capital-loss</th>\n",
       "      <th>hours-per-week</th>\n",
       "      <th>native-country</th>\n",
       "      <th>income</th>\n",
       "    </tr>\n",
       "  </thead>\n",
       "  <tbody>\n",
       "    <tr>\n",
       "      <th>0</th>\n",
       "      <td>25</td>\n",
       "      <td>Private</td>\n",
       "      <td>226802</td>\n",
       "      <td>7</td>\n",
       "      <td>Never-married</td>\n",
       "      <td>Machine-op-inspct</td>\n",
       "      <td>Own-child</td>\n",
       "      <td>Black</td>\n",
       "      <td>Male</td>\n",
       "      <td>0</td>\n",
       "      <td>0</td>\n",
       "      <td>40</td>\n",
       "      <td>United-States</td>\n",
       "      <td>0</td>\n",
       "    </tr>\n",
       "    <tr>\n",
       "      <th>1</th>\n",
       "      <td>38</td>\n",
       "      <td>Private</td>\n",
       "      <td>89814</td>\n",
       "      <td>9</td>\n",
       "      <td>Married-civ-spouse</td>\n",
       "      <td>Farming-fishing</td>\n",
       "      <td>Husband</td>\n",
       "      <td>White</td>\n",
       "      <td>Male</td>\n",
       "      <td>0</td>\n",
       "      <td>0</td>\n",
       "      <td>50</td>\n",
       "      <td>United-States</td>\n",
       "      <td>0</td>\n",
       "    </tr>\n",
       "    <tr>\n",
       "      <th>2</th>\n",
       "      <td>28</td>\n",
       "      <td>Local-gov</td>\n",
       "      <td>336951</td>\n",
       "      <td>12</td>\n",
       "      <td>Married-civ-spouse</td>\n",
       "      <td>Protective-serv</td>\n",
       "      <td>Husband</td>\n",
       "      <td>White</td>\n",
       "      <td>Male</td>\n",
       "      <td>0</td>\n",
       "      <td>0</td>\n",
       "      <td>40</td>\n",
       "      <td>United-States</td>\n",
       "      <td>1</td>\n",
       "    </tr>\n",
       "    <tr>\n",
       "      <th>3</th>\n",
       "      <td>44</td>\n",
       "      <td>Private</td>\n",
       "      <td>160323</td>\n",
       "      <td>10</td>\n",
       "      <td>Married-civ-spouse</td>\n",
       "      <td>Machine-op-inspct</td>\n",
       "      <td>Husband</td>\n",
       "      <td>Black</td>\n",
       "      <td>Male</td>\n",
       "      <td>7688</td>\n",
       "      <td>0</td>\n",
       "      <td>40</td>\n",
       "      <td>United-States</td>\n",
       "      <td>1</td>\n",
       "    </tr>\n",
       "    <tr>\n",
       "      <th>4</th>\n",
       "      <td>18</td>\n",
       "      <td>NaN</td>\n",
       "      <td>103497</td>\n",
       "      <td>10</td>\n",
       "      <td>Never-married</td>\n",
       "      <td>NaN</td>\n",
       "      <td>Own-child</td>\n",
       "      <td>White</td>\n",
       "      <td>Female</td>\n",
       "      <td>0</td>\n",
       "      <td>0</td>\n",
       "      <td>30</td>\n",
       "      <td>United-States</td>\n",
       "      <td>0</td>\n",
       "    </tr>\n",
       "  </tbody>\n",
       "</table>\n",
       "</div>"
      ],
      "text/plain": [
       "   age   workclass  fnlwgt  education-num       marital-status  \\\n",
       "0   25     Private  226802              7        Never-married   \n",
       "1   38     Private   89814              9   Married-civ-spouse   \n",
       "2   28   Local-gov  336951             12   Married-civ-spouse   \n",
       "3   44     Private  160323             10   Married-civ-spouse   \n",
       "4   18         NaN  103497             10        Never-married   \n",
       "\n",
       "           occupation relationship    race      sex  capital-gain  \\\n",
       "0   Machine-op-inspct    Own-child   Black     Male             0   \n",
       "1     Farming-fishing      Husband   White     Male             0   \n",
       "2     Protective-serv      Husband   White     Male             0   \n",
       "3   Machine-op-inspct      Husband   Black     Male          7688   \n",
       "4                 NaN    Own-child   White   Female             0   \n",
       "\n",
       "   capital-loss  hours-per-week  native-country  income  \n",
       "0             0              40   United-States       0  \n",
       "1             0              50   United-States       0  \n",
       "2             0              40   United-States       1  \n",
       "3             0              40   United-States       1  \n",
       "4             0              30   United-States       0  "
      ]
     },
     "execution_count": 102,
     "metadata": {},
     "output_type": "execute_result"
    }
   ],
   "source": [
    "test_df.head()"
   ]
  },
  {
   "cell_type": "code",
   "execution_count": 103,
   "id": "606dfb2b",
   "metadata": {},
   "outputs": [],
   "source": [
    "test_df = test_df.dropna()"
   ]
  },
  {
   "cell_type": "code",
   "execution_count": 104,
   "id": "02676935",
   "metadata": {},
   "outputs": [
    {
     "name": "stdout",
     "output_type": "stream",
     "text": [
      "<class 'pandas.core.frame.DataFrame'>\n",
      "Index: 15060 entries, 0 to 16280\n",
      "Data columns (total 14 columns):\n",
      " #   Column          Non-Null Count  Dtype \n",
      "---  ------          --------------  ----- \n",
      " 0   age             15060 non-null  int64 \n",
      " 1   workclass       15060 non-null  object\n",
      " 2   fnlwgt          15060 non-null  int64 \n",
      " 3   education-num   15060 non-null  int64 \n",
      " 4   marital-status  15060 non-null  object\n",
      " 5   occupation      15060 non-null  object\n",
      " 6   relationship    15060 non-null  object\n",
      " 7   race            15060 non-null  object\n",
      " 8   sex             15060 non-null  object\n",
      " 9   capital-gain    15060 non-null  int64 \n",
      " 10  capital-loss    15060 non-null  int64 \n",
      " 11  hours-per-week  15060 non-null  int64 \n",
      " 12  native-country  15060 non-null  object\n",
      " 13  income          15060 non-null  int64 \n",
      "dtypes: int64(7), object(7)\n",
      "memory usage: 1.7+ MB\n"
     ]
    }
   ],
   "source": [
    "test_df.info()"
   ]
  },
  {
   "cell_type": "markdown",
   "id": "cfc5feea",
   "metadata": {},
   "source": [
    "### Данные\n"
   ]
  },
  {
   "cell_type": "markdown",
   "id": "171de526",
   "metadata": {},
   "source": [
    "Смотрим на распределение клаасов в итоговой переменной (отклике)"
   ]
  },
  {
   "cell_type": "code",
   "execution_count": 105,
   "id": "1a34b3dc",
   "metadata": {},
   "outputs": [
    {
     "data": {
      "text/plain": [
       "income\n",
       "0    0.751078\n",
       "1    0.248922\n",
       "Name: proportion, dtype: float64"
      ]
     },
     "execution_count": 105,
     "metadata": {},
     "output_type": "execute_result"
    }
   ],
   "source": [
    "df['income'].value_counts(normalize=True)"
   ]
  },
  {
   "cell_type": "markdown",
   "id": "821b69e6",
   "metadata": {},
   "source": [
    "Обратим внимание на то, что в наборе данных присутвует большое кол-во категориальных признаков и от них нужно избавиться. \n",
    "\n",
    "В данном случае над всеми категориальными признаками применим метод `One-Hot-encoding`, в этом методе каждое уникальное значение признака получает свой столбец, который заполняется значениеми: в случае отсутствия уникального значения ставится `0` иначе  `1`."
   ]
  },
  {
   "cell_type": "code",
   "execution_count": 106,
   "id": "2aaa28c8",
   "metadata": {},
   "outputs": [
    {
     "name": "stdout",
     "output_type": "stream",
     "text": [
      "X: (30162, 13) \n",
      "y: (30162,)       \n",
      "X_test: (15060, 13) \n",
      "y_test: (15060,)\n"
     ]
    }
   ],
   "source": [
    "X = df.drop('income', axis = 1)\n",
    "y = df['income']\n",
    "\n",
    "X_test = test_df.drop('income', axis = 1)\n",
    "y_test = test_df['income']\n",
    "\n",
    "print(f'X: {X.shape} \\ny: {y.shape}\\\n",
    "       \\nX_test: {X_test.shape} \\ny_test: {y_test.shape}')"
   ]
  },
  {
   "cell_type": "code",
   "execution_count": 107,
   "id": "68f6cb6e",
   "metadata": {},
   "outputs": [],
   "source": [
    "X = pd.get_dummies(X)\n",
    "X_test = pd.get_dummies(X_test)"
   ]
  },
  {
   "cell_type": "code",
   "execution_count": 108,
   "id": "814dfac2",
   "metadata": {},
   "outputs": [
    {
     "name": "stdout",
     "output_type": "stream",
     "text": [
      "X: (30162, 88)\n",
      "X_test: (15060, 87)\n"
     ]
    }
   ],
   "source": [
    "print(f'X: {X.shape}\\nX_test: {X_test.shape}')"
   ]
  },
  {
   "cell_type": "markdown",
   "id": "b55ca46f",
   "metadata": {},
   "source": [
    "Замечаем, что признаки закодировались не совсем так как мы хотели и мы получили в обучающей выборке 88 признаков, а в тестовой 87. Найдем значение закодированного призака которое не попало в тестовую выборку и из-за чего не создался столбец."
   ]
  },
  {
   "cell_type": "code",
   "execution_count": 109,
   "id": "78d45542",
   "metadata": {},
   "outputs": [
    {
     "name": "stdout",
     "output_type": "stream",
     "text": [
      "{'native-country_ Holand-Netherlands'}\n",
      "set()\n"
     ]
    }
   ],
   "source": [
    "print(set(X.columns) - set(X_test.columns))\n",
    "print(set(X_test.columns) - set(X.columns))"
   ]
  },
  {
   "cell_type": "markdown",
   "id": "ded683a4",
   "metadata": {},
   "source": [
    "Теперь можно исправить этот недочет. Создаем полный список всех колонок (из трейна и из теста) и переиндексируем, то есть сделаем так, чтобы столбцы соответствовали столбцам, указанным в списке колонок. Если будут отсутствовать столбцы из columns, они будут добавлены с пропущенными значениями (NaN). В нашем случае это будет столбец \"native-country_ Holand-Netherlands\"."
   ]
  },
  {
   "cell_type": "code",
   "execution_count": 110,
   "id": "7f403612",
   "metadata": {},
   "outputs": [],
   "source": [
    "X_columns = set(X.columns) | set(X_test.columns)\n",
    "\n",
    "X = X.reindex(columns=X_columns).fillna(0)\n",
    "X_test = X_test.reindex(columns=X_columns).fillna(0)"
   ]
  },
  {
   "cell_type": "code",
   "execution_count": 111,
   "id": "fa6c4ba5",
   "metadata": {},
   "outputs": [
    {
     "name": "stdout",
     "output_type": "stream",
     "text": [
      "X: (30162, 88)\n",
      "X_test: (15060, 88)\n",
      "True\n"
     ]
    }
   ],
   "source": [
    "print(f'X: {X.shape}\\nX_test: {X_test.shape}')\n",
    "print(set(X.columns) == set(X_test.columns))"
   ]
  },
  {
   "cell_type": "markdown",
   "id": "a7082a64",
   "metadata": {},
   "source": [
    "Отметим, что с деревьями стандартизация ничего не улучшает и ничего не уменьшает, поэтому смысла ее делать не много.\n",
    "кроме всей проделланной предобработки, можно подобавлять новых признаков, которые будут являться, например объединением каких-то значений иных признаков."
   ]
  },
  {
   "cell_type": "code",
   "execution_count": 112,
   "id": "407f6a23",
   "metadata": {},
   "outputs": [
    {
     "name": "stdout",
     "output_type": "stream",
     "text": [
      "X_train: (24129, 88) \n",
      "y_train: (24129,)       \n",
      "\n",
      "X_val: (6033, 88) \n",
      "y_val: (6033,)\n"
     ]
    }
   ],
   "source": [
    "from sklearn.model_selection import train_test_split\n",
    "\n",
    "X_train, X_valid, y_train, y_valid = train_test_split(X, \n",
    "                                                      y, \n",
    "                                                      test_size = 0.2, \n",
    "                                                      random_state = 42)\n",
    "\n",
    "print(f'X_train: {X_train.shape} \\ny_train: {y_train.shape}\\\n",
    "       \\n\\nX_val: {X_valid.shape} \\ny_val: {y_valid.shape}')"
   ]
  },
  {
   "cell_type": "markdown",
   "id": "1e7d2dd7",
   "metadata": {},
   "source": [
    "### lightgbm\n"
   ]
  },
  {
   "cell_type": "code",
   "execution_count": 260,
   "id": "7aaed4ae",
   "metadata": {},
   "outputs": [],
   "source": [
    "import lightgbm as lgb"
   ]
  },
  {
   "cell_type": "markdown",
   "id": "a5093349",
   "metadata": {},
   "source": [
    "Важные гиперпараметры LightGBM\n",
    "\n",
    "1. Общие параметры\n",
    "- `boosting_type` - Тип бустинга, который будет использоваться. Возможные значения: `gbdt`: Градиентный бустинг (по умолчанию). `dart`: Dropouts meet Multiple Additive Regression Trees. `goss`: Gradient-based One-Side Sampling.\n",
    "- `objective` - Целевая функция, которую нужно оптимизировать. `binary`: Для бинарной классификации. `multiclass`: Для многоклассовой классификации. `regression`: Для регрессионных задач.\n",
    "\n",
    "2. Параметры обучения\n",
    "- `learning_rate` - Скорость обучения, которая контролирует, насколько сильно модель корректирует свои предсказания на каждой итерации. Значения обычно находятся в диапазоне от 0.01 до 0.3\n",
    "- `num_iterations` - Общее количество итераций (или деревьев), которые будут построены. Чем больше итераций, тем более сложная модель, но это также может привести к переобучению\n",
    "- `num_leaves` - определяет максимальное количество листьев (конечных узлов) в каждом дереве. Это основной параметр, который влияет на способность модели захватывать сложные зависимости в данных.\n",
    "\n",
    "3. Параметры регуляризации\n",
    "- `max_depth` - Максимальная глубина дерева. Ограничение глубины помогает предотвратить переобучение. Значение по умолчанию — -1 (без ограничения).\n",
    "- `min_data_in_leaf` - Минимальное количество данных в листе. Этот параметр помогает контролировать переобучение, устанавливая минимальное количество образцов, необходимых для создания листа.\n",
    "- `lambda_l1` - Коэффициент L1-регуляризации. Помогает уменьшить переобучение, добавляя штраф за сложность модели.\n",
    "- `lambda_l2` - Коэффициент L2-регуляризации. Аналогично L1, но штрафует за большие значения параметров.\n",
    "\n",
    "4. Параметры, связанные с данными\n",
    "- `feature_fraction` - Доля признаков, которые будут использоваться для обучения каждого дерева. Это помогает предотвратить переобучение. Значения обычно находятся в диапазоне от 0.1 до 1.\n",
    "- `bagging_fraction` - Доля данных, которые будут использоваться для обучения каждого дерева. Это также помогает предотвратить переобучение.\n",
    "- `bagging_freq` - Частота, с которой будет применяться бутстрэппинг. Если значение равно 0, то бутстрэппинг не используется.\n",
    "\n",
    "5. Параметры для контроля обучения\n",
    "- `early_stopping_rounds` - Количество итераций без улучшения, после которых обучение будет остановлено. Это помогает избежать переобучения.\n",
    "- `verbose` - Уровень вывода информации о процессе обучения. Значение 0 отключает вывод, 1 включает вывод информации о процессе."
   ]
  },
  {
   "cell_type": "code",
   "execution_count": 263,
   "id": "5690716d",
   "metadata": {},
   "outputs": [],
   "source": [
    "train_data = lgb.Dataset(X_train, y_train)\n",
    "valid_data = lgb.Dataset(X_valid, y_valid, reference = train_data)\n",
    "\n",
    "params = {\n",
    "    'metric' : ['auc', 'binary_error'],\n",
    "    'boosting_type': 'gbdt',\n",
    "    'learning_rate': 0.3,\n",
    "    'feature_fraction': 0.8,\n",
    "    'num_leaves': 10,\n",
    "    'max_depth': 6\n",
    "}"
   ]
  },
  {
   "cell_type": "code",
   "execution_count": 264,
   "id": "a515e580",
   "metadata": {},
   "outputs": [
    {
     "name": "stdout",
     "output_type": "stream",
     "text": [
      "[LightGBM] [Warning] Found whitespace in feature_names, replace with underlines\n",
      "[LightGBM] [Info] Auto-choosing row-wise multi-threading, the overhead of testing was 0.006245 seconds.\n",
      "You can set `force_row_wise=true` to remove the overhead.\n",
      "And if memory is not enough, you can set `force_col_wise=true`.\n",
      "[LightGBM] [Info] Total Bins 717\n",
      "[LightGBM] [Info] Number of data points in the train set: 24129, number of used features: 74\n",
      "[LightGBM] [Warning] Found whitespace in feature_names, replace with underlines\n",
      "[LightGBM] [Info] Start training from score 0.247752\n",
      "[10]\tvalid_0's auc: 0.915066\tvalid_0's binary_error: 0.139068\n",
      "[20]\tvalid_0's auc: 0.921518\tvalid_0's binary_error: 0.133101\n",
      "[30]\tvalid_0's auc: 0.92388\tvalid_0's binary_error: 0.130781\n",
      "[40]\tvalid_0's auc: 0.924598\tvalid_0's binary_error: 0.129952\n",
      "[50]\tvalid_0's auc: 0.925102\tvalid_0's binary_error: 0.129455\n",
      "[LightGBM] [Warning] No further splits with positive gain, best gain: -inf\n",
      "[60]\tvalid_0's auc: 0.925569\tvalid_0's binary_error: 0.128626\n",
      "[70]\tvalid_0's auc: 0.92579\tvalid_0's binary_error: 0.12846\n",
      "[80]\tvalid_0's auc: 0.926416\tvalid_0's binary_error: 0.126803\n",
      "[90]\tvalid_0's auc: 0.926349\tvalid_0's binary_error: 0.126637\n",
      "[LightGBM] [Warning] No further splits with positive gain, best gain: -inf\n",
      "[100]\tvalid_0's auc: 0.92631\tvalid_0's binary_error: 0.126471\n",
      "[110]\tvalid_0's auc: 0.926712\tvalid_0's binary_error: 0.127134\n",
      "[120]\tvalid_0's auc: 0.927044\tvalid_0's binary_error: 0.12614\n",
      "[130]\tvalid_0's auc: 0.927012\tvalid_0's binary_error: 0.125974\n",
      "[140]\tvalid_0's auc: 0.926816\tvalid_0's binary_error: 0.124979\n",
      "[150]\tvalid_0's auc: 0.926722\tvalid_0's binary_error: 0.124814\n",
      "[160]\tvalid_0's auc: 0.926574\tvalid_0's binary_error: 0.124979\n",
      "[170]\tvalid_0's auc: 0.926594\tvalid_0's binary_error: 0.124482\n",
      "[180]\tvalid_0's auc: 0.926219\tvalid_0's binary_error: 0.124814\n",
      "[190]\tvalid_0's auc: 0.926393\tvalid_0's binary_error: 0.124648\n",
      "[200]\tvalid_0's auc: 0.926348\tvalid_0's binary_error: 0.124979\n"
     ]
    }
   ],
   "source": [
    "evals_result = {}\n",
    "\n",
    "model = lgb.train(\n",
    "    params, \n",
    "    train_data, \n",
    "    num_boost_round = 200, \n",
    "    valid_sets = [valid_data],\n",
    "    callbacks = [lgb.log_evaluation(10)]\n",
    ")"
   ]
  },
  {
   "cell_type": "markdown",
   "id": "0c265095",
   "metadata": {},
   "source": [
    "### Предсказания"
   ]
  },
  {
   "cell_type": "code",
   "execution_count": 265,
   "id": "99e4e2b3",
   "metadata": {},
   "outputs": [],
   "source": [
    "y_test_pred = model.predict(X_test)\n",
    "y_pred_bin = [1 if i > 0.5 else 0 for i in y_test_pred]"
   ]
  },
  {
   "cell_type": "code",
   "execution_count": 266,
   "id": "ab03bea2",
   "metadata": {},
   "outputs": [
    {
     "name": "stdout",
     "output_type": "stream",
     "text": [
      "15060\n",
      "0\n",
      "0.2456702082998896\n"
     ]
    }
   ],
   "source": [
    "print(len(y_pred_bin))\n",
    "\n",
    "print(y_pred_bin[1])\n",
    "print(y_test_pred[1])"
   ]
  },
  {
   "cell_type": "code",
   "execution_count": 267,
   "id": "f6b59dd7",
   "metadata": {},
   "outputs": [
    {
     "name": "stdout",
     "output_type": "stream",
     "text": [
      "              precision    recall  f1-score   support\n",
      "\n",
      "           0       0.89      0.94      0.92     11360\n",
      "           1       0.78      0.65      0.71      3700\n",
      "\n",
      "    accuracy                           0.87     15060\n",
      "   macro avg       0.84      0.80      0.81     15060\n",
      "weighted avg       0.87      0.87      0.87     15060\n",
      "\n"
     ]
    }
   ],
   "source": [
    "from sklearn.metrics import classification_report\n",
    "\n",
    "print(classification_report(y_test, y_pred_bin))"
   ]
  },
  {
   "cell_type": "markdown",
   "id": "9022c9f7",
   "metadata": {},
   "source": [
    "### Информативность переменных"
   ]
  },
  {
   "cell_type": "code",
   "execution_count": 269,
   "id": "70e32529",
   "metadata": {},
   "outputs": [
    {
     "data": {
      "text/plain": [
       "<Axes: title={'center': 'Feature importance'}, xlabel='Feature importance', ylabel='Features'>"
      ]
     },
     "execution_count": 269,
     "metadata": {},
     "output_type": "execute_result"
    },
    {
     "data": {
      "image/png": "[encoded data removed]",
      "text/plain": [
       "<Figure size 640x480 with 1 Axes>"
      ]
     },
     "metadata": {},
     "output_type": "display_data"
    }
   ],
   "source": [
    " lgb.plot_importance(model, max_num_features=10)"
   ]
  },
  {
   "cell_type": "code",
   "execution_count": null,
   "id": "0185608e",
   "metadata": {},
   "outputs": [],
   "source": []
  }
 ],
 "metadata": {
  "kernelspec": {
   "display_name": "Python 3 (ipykernel)",
   "language": "python",
   "name": "python3"
  },
  "language_info": {
   "codemirror_mode": {
    "name": "ipython",
    "version": 3
   },
   "file_extension": ".py",
   "mimetype": "text/x-python",
   "name": "python",
   "nbconvert_exporter": "python",
   "pygments_lexer": "ipython3",
   "version": "3.11.5"
  }
 },
 "nbformat": 4,
 "nbformat_minor": 5
}
